{
 "cells": [
  {
   "cell_type": "markdown",
   "id": "d4dc356f",
   "metadata": {},
   "source": [
    "# Updates"
   ]
  },
  {
   "cell_type": "code",
   "execution_count": null,
   "metadata": {
    "language_info": {
     "name": "polyglot-notebook"
    },
    "polyglot_notebook": {
     "kernelName": "pwsh"
    }
   },
   "outputs": [],
   "source": [
    "dotnet tool install"
   ]
  },
  {
   "cell_type": "markdown",
   "id": "1036d3dc",
   "metadata": {},
   "source": [
    "## List local tools"
   ]
  },
  {
   "cell_type": "code",
   "execution_count": null,
   "id": "d17750a2",
   "metadata": {
    "language_info": {
     "name": "polyglot-notebook"
    },
    "polyglot_notebook": {
     "kernelName": "pwsh"
    }
   },
   "outputs": [],
   "source": [
    "dotnet tool list --local"
   ]
  },
  {
   "cell_type": "markdown",
   "id": "e26bfe65",
   "metadata": {},
   "source": [
    "## Update all local tools"
   ]
  },
  {
   "cell_type": "code",
   "execution_count": null,
   "id": "c5a2b80a",
   "metadata": {
    "language_info": {
     "name": "polyglot-notebook"
    },
    "polyglot_notebook": {
     "kernelName": "pwsh"
    }
   },
   "outputs": [],
   "source": [
    "dotnet tool update --local --all"
   ]
  },
  {
   "cell_type": "markdown",
   "id": "e1cbb896",
   "metadata": {},
   "source": [
    "## List outdated nuget packages"
   ]
  },
  {
   "cell_type": "code",
   "execution_count": null,
   "metadata": {
    "language_info": {
     "name": "polyglot-notebook"
    },
    "polyglot_notebook": {
     "kernelName": "pwsh"
    }
   },
   "outputs": [],
   "source": [
    "dotnet outdated .\\CICDTemplate.slnx"
   ]
  },
  {
   "cell_type": "markdown",
   "id": "9158b7aa",
   "metadata": {},
   "source": [
    "## Update outdated nuget packages"
   ]
  },
  {
   "cell_type": "code",
   "execution_count": null,
   "metadata": {
    "language_info": {
     "name": "polyglot-notebook"
    },
    "polyglot_notebook": {
     "kernelName": "pwsh"
    }
   },
   "outputs": [],
   "source": [
    "dotnet outdated .\\CICDTemplate.slnx -u"
   ]
  }
 ],
 "metadata": {
  "kernelspec": {
   "display_name": ".NET (C#)",
   "language": "C#",
   "name": ".net-csharp"
  },
  "language_info": {
   "name": "polyglot-notebook"
  },
  "polyglot_notebook": {
   "kernelInfo": {
    "defaultKernelName": "csharp",
    "items": [
     {
      "aliases": [],
      "languageName": "csharp",
      "name": "csharp"
     }
    ]
   }
  }
 },
 "nbformat": 4,
 "nbformat_minor": 5
}
