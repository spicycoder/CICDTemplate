{
 "cells": [
  {
   "cell_type": "markdown",
   "metadata": {},
   "source": [
    "# Pack as Solution Template\n",
    "\n",
    "> Run all commands from [build.ipynb](build.ipynb)"
   ]
  },
  {
   "cell_type": "markdown",
   "metadata": {},
   "source": [
    "## Pack as template\n",
    "\n",
    "> This will generate `CloudNative.CleanArchitecture.Template.1.0.0.nupkg` at `./bin/Release`"
   ]
  },
  {
   "cell_type": "code",
   "execution_count": null,
   "metadata": {
    "dotnet_interactive": {
     "language": "pwsh"
    },
    "polyglot_notebook": {
     "kernelName": "pwsh"
    },
    "vscode": {
     "languageId": "polyglot-notebook"
    }
   },
   "outputs": [],
   "source": [
    "dotnet pack -c Release ../CICDTemplate.Template.csproj"
   ]
  },
  {
   "cell_type": "markdown",
   "metadata": {},
   "source": [
    "## To Uninstall the template"
   ]
  },
  {
   "cell_type": "code",
   "execution_count": null,
   "metadata": {
    "dotnet_interactive": {
     "language": "pwsh"
    },
    "polyglot_notebook": {
     "kernelName": "pwsh"
    },
    "vscode": {
     "languageId": "polyglot-notebook"
    }
   },
   "outputs": [],
   "source": [
    "# dotnet new uninstall CloudNative.CleanArchitecture.Template"
   ]
  },
  {
   "cell_type": "markdown",
   "metadata": {},
   "source": [
    "## To Install the template"
   ]
  },
  {
   "cell_type": "code",
   "execution_count": null,
   "metadata": {
    "dotnet_interactive": {
     "language": "pwsh"
    },
    "polyglot_notebook": {
     "kernelName": "pwsh"
    },
    "vscode": {
     "languageId": "polyglot-notebook"
    }
   },
   "outputs": [],
   "source": [
    "$packageDirectory = \"../bin/Release\"\n",
    "\n",
    "$latestPackage = Get-ChildItem -Path $packageDirectory -Filter \"CloudNative.CleanArchitecture.Template.*.nupkg\" | Sort-Object LastWriteTime -Descending | Select-Object -First 1\n",
    "\n",
    "$packageFullPath = [System.IO.Path]::Combine((Get-Item $packageDirectory).FullName, $latestPackage.Name)\n",
    "\n",
    "dotnet new install $packageFullPath"
   ]
  },
  {
   "cell_type": "markdown",
   "metadata": {},
   "source": [
    "## To create project\n",
    "\n",
    "Run following command from desired directory\n",
    "\n",
    "```sh\n",
    "dotnet new cn-ca --name Publisher\n",
    "```"
   ]
  }
 ],
 "metadata": {
  "kernelspec": {
   "display_name": ".NET (C#)",
   "language": "C#",
   "name": ".net-csharp"
  },
  "language_info": {
   "name": "python"
  },
  "polyglot_notebook": {
   "kernelInfo": {
    "defaultKernelName": "csharp",
    "items": [
     {
      "aliases": [],
      "name": "csharp"
     }
    ]
   }
  }
 },
 "nbformat": 4,
 "nbformat_minor": 2
}
